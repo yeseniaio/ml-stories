{
 "cells": [
  {
   "cell_type": "code",
   "execution_count": null,
   "id": "618d146f",
   "metadata": {},
   "outputs": [],
   "source": [
    "import numpy as np\n",
    "from sklearn.linear_model import LinearRegression\n",
    "import matplotlib.pyplot as plt\n",
    "\n",
    "# Generating a sample dataset\n",
    "np.random.seed(0)\n",
    "X = np.random.rand(100, 1)\n",
    "y = 2 + 3 * X + np.random.randn(100, 1)\n",
    "\n",
    "# Creating the linear regression model object\n",
    "model = LinearRegression()\n",
    "\n",
    "# Fitting the model to the training data\n",
    "model.fit(X, y)\n",
    "\n",
    "\n",
    "In this example, the scatter plot of the training data is plotted using matplotlib, and the regression line is plotted by using the predict method of the model to generate the predicted outputs for the input features. The plot displays the input feature on the x-axis and the target on the y-axis, and the regression line provides an estimate of the relationship between the two.\n"
   ]
  },
  {
   "cell_type": "markdown",
   "id": "3c8963ec",
   "metadata": {},
   "source": [
    "Here's an example implementation of a linear regression model in Python using the popular machine learning library, scikit-learn:"
   ]
  },
  {
   "cell_type": "code",
   "execution_count": null,
   "id": "b985ccac",
   "metadata": {},
   "outputs": [],
   "source": [
    "# Generating a sample dataset\n",
    "np.random.seed(0)\n",
    "X = np.random.rand(100, 1)\n",
    "y = 2 + 3 * X + np.random.randn(100, 1)\n",
    "\n",
    "# Creating the linear regression model object\n",
    "model = LinearRegression()\n",
    "\n",
    "# Fitting the model to the training data\n",
    "model.fit(X, y)\n",
    "\n",
    "# Printing the intercept and coefficients of the model\n",
    "print(\"Intercept: \", model.intercept_)\n",
    "print(\"Coefficients: \", model.coef_)"
   ]
  },
  {
   "cell_type": "markdown",
   "id": "4a34a260",
   "metadata": {},
   "source": [
    "\n",
    "This example uses a simple linear regression model with one input feature, but the same process can be extended to multiple input features as well. In this example, a sample dataset is generated using numpy, and the linear regression model is fit to the training data using the fit method of the LinearRegression model. The intercept and coefficients of the model are then printed, and the model is used to make a prediction for a new sample.\n",
    "\n"
   ]
  },
  {
   "cell_type": "code",
   "execution_count": null,
   "id": "24585043",
   "metadata": {},
   "outputs": [],
   "source": [
    "# Predicting the output for a new sample\n",
    "X_new = np.array([[0.2]])\n",
    "y_pred = model.predict(X_new)\n",
    "print(\"Predicted output: \", y_pred)"
   ]
  },
  {
   "cell_type": "code",
   "execution_count": null,
   "id": "67bea86e",
   "metadata": {},
   "outputs": [],
   "source": [
    "# Plotting the training data and the regression line\n",
    "plt.scatter(X, y, color='blue')\n",
    "plt.plot(X, model.predict(X), color='red')\n",
    "plt.xlabel(\"Input feature\")\n",
    "plt.ylabel(\"Target\")\n",
    "plt.title(\"Linear Regression\")\n",
    "plt.show()"
   ]
  },
  {
   "cell_type": "code",
   "execution_count": null,
   "id": "a1db0b44",
   "metadata": {},
   "outputs": [],
   "source": []
  }
 ],
 "metadata": {
  "kernelspec": {
   "display_name": "Python 3 (ipykernel)",
   "language": "python",
   "name": "python3"
  },
  "language_info": {
   "codemirror_mode": {
    "name": "ipython",
    "version": 3
   },
   "file_extension": ".py",
   "mimetype": "text/x-python",
   "name": "python",
   "nbconvert_exporter": "python",
   "pygments_lexer": "ipython3",
   "version": "3.9.12"
  }
 },
 "nbformat": 4,
 "nbformat_minor": 5
}
